{
 "cells": [
  {
   "cell_type": "code",
   "execution_count": 1,
   "id": "4fc58dcd-1373-4178-ab85-01cdbe94c02e",
   "metadata": {},
   "outputs": [],
   "source": [
    "import torch\n",
    "import pathlib\n",
    "import numpy as np\n",
    "import seaborn as sns\n",
    "import matplotlib.pyplot as plt\n",
    "from torch import nn"
   ]
  },
  {
   "cell_type": "code",
   "execution_count": 2,
   "id": "8f9f2773-bec5-4e05-ae3a-708a0dee687a",
   "metadata": {},
   "outputs": [],
   "source": [
    "device = \"cuda\" if torch.cuda.is_available() else \"cpu\""
   ]
  },
  {
   "cell_type": "code",
   "execution_count": 3,
   "id": "fc9df236-672c-43a5-9a69-e4254aafc8e1",
   "metadata": {},
   "outputs": [
    {
     "data": {
      "text/plain": [
       "'cpu'"
      ]
     },
     "execution_count": 3,
     "metadata": {},
     "output_type": "execute_result"
    }
   ],
   "source": [
    "device"
   ]
  },
  {
   "cell_type": "code",
   "execution_count": 4,
   "id": "53b291ce-cf72-4a4c-b5f6-9aa41b955020",
   "metadata": {},
   "outputs": [],
   "source": [
    "class DummyDataCreaterForRegression:\n",
    "    def __init__(self, weights: float, bias: float, start: float, end: float, step: float):\n",
    "        self.weights = weights\n",
    "        self.bias = bias\n",
    "        self.start = start\n",
    "        self.end = end\n",
    "        self.step = step\n",
    "\n",
    "\n",
    "    def create_data(self) -> tuple[torch.Tensor, torch.Tensor]:\n",
    "        \"\"\"\n",
    "        A Dummpy data creater for Regression problem\n",
    "        \"\"\" \n",
    "        x = torch.arange(self.start, self.end, self.step).unsqueeze(dim=1)\n",
    "        y = self.weights * x + self.bias\n",
    "        return x, y"
   ]
  },
  {
   "cell_type": "code",
   "execution_count": 6,
   "id": "430b3f2d-6352-46cd-98eb-15309a289bb6",
   "metadata": {},
   "outputs": [],
   "source": [
    "data_creator = DummyDataCreaterForRegression(weights=0.7, bias=0.3, start=0.0, end=1.0, step=0.02)\n",
    "x, y = data_creator.create_data()"
   ]
  },
  {
   "cell_type": "code",
   "execution_count": 8,
   "id": "d9535fd1-d218-4b00-bc1f-331c0a5aacb0",
   "metadata": {},
   "outputs": [],
   "source": [
    "train_split = int(0.8 * len(x))"
   ]
  },
  {
   "cell_type": "code",
   "execution_count": 9,
   "id": "3e898148-1c1b-4bc6-b86b-895ca6b58647",
   "metadata": {},
   "outputs": [],
   "source": [
    "x_train, y_train , x_test, y_test = x[:train_split], y[:train_split], x[train_split:], y[train_split:]"
   ]
  },
  {
   "cell_type": "code",
   "execution_count": 10,
   "id": "a95ea587-f03a-4bbc-ac59-20feb07e2c9d",
   "metadata": {},
   "outputs": [
    {
     "data": {
      "text/plain": [
       "(40, 40, 10, 10)"
      ]
     },
     "execution_count": 10,
     "metadata": {},
     "output_type": "execute_result"
    }
   ],
   "source": [
    "len(x_train), len(y_train), len(x_test), len(y_test)"
   ]
  },
  {
   "cell_type": "code",
   "execution_count": 11,
   "id": "5a36b7e6-60a9-4526-84f1-2e2433c859b0",
   "metadata": {},
   "outputs": [],
   "source": [
    "class LinearRegressionModel(nn.Module):\n",
    "    def __init__(self):\n",
    "        super().__init__()\n",
    "        self.liner_layer = nn.Linear(in_features=1, out_features=1)\n",
    "\n",
    "    def forward(self, x: torch.Tensor) -> torch.Tensor:\n",
    "        return self.liner_layer(x)"
   ]
  },
  {
   "cell_type": "code",
   "execution_count": 12,
   "id": "85db21e6-cd27-49ef-b9cb-af21bd03e4a1",
   "metadata": {},
   "outputs": [
    {
     "data": {
      "text/plain": [
       "(LinearRegressionModel(\n",
       "   (liner_layer): Linear(in_features=1, out_features=1, bias=True)\n",
       " ),\n",
       " OrderedDict([('liner_layer.weight', tensor([[0.7645]])),\n",
       "              ('liner_layer.bias', tensor([0.8300]))]))"
      ]
     },
     "execution_count": 12,
     "metadata": {},
     "output_type": "execute_result"
    }
   ],
   "source": [
    "torch.manual_seed(42)\n",
    "model_1 = LinearRegressionModel()\n",
    "model_1, model_1.state_dict()"
   ]
  },
  {
   "cell_type": "code",
   "execution_count": 13,
   "id": "f5c58600-7b92-439c-b159-59224e554c37",
   "metadata": {},
   "outputs": [
    {
     "data": {
      "text/plain": [
       "device(type='cpu')"
      ]
     },
     "execution_count": 13,
     "metadata": {},
     "output_type": "execute_result"
    }
   ],
   "source": [
    "next(model_1.parameters()).device"
   ]
  },
  {
   "cell_type": "code",
   "execution_count": 18,
   "id": "e4a7788b-021d-4499-ba93-0fd942c95694",
   "metadata": {},
   "outputs": [
    {
     "data": {
      "text/plain": [
       "device(type='cpu')"
      ]
     },
     "execution_count": 18,
     "metadata": {},
     "output_type": "execute_result"
    }
   ],
   "source": [
    "model_1.to(device) # if cuda were present it will have send data to cuda\n",
    "next(model_1.parameters()).device"
   ]
  },
  {
   "cell_type": "code",
   "execution_count": 16,
   "id": "84b5fd99-9ca5-47bf-9e69-b1a4a574c2d3",
   "metadata": {},
   "outputs": [],
   "source": [
    "class TrainModel:\n",
    "    def __init__(self, model, x_train, y_train, x_test, y_test, epochs=100, lr=0.01):\n",
    "        self.epochs = epochs\n",
    "        self.model = model\n",
    "        self.x_train = x_train\n",
    "        self.y_train = y_train\n",
    "        self.x_test = x_test\n",
    "        self.y_test = y_test\n",
    "\n",
    "        self.loss_fn = nn.L1Loss()\n",
    "        self.optimizer = torch.optim.SGD(params=model.parameters(), lr=lr)\n",
    "\n",
    "    def train(self):\n",
    "        torch.manual_seed(42)\n",
    "\n",
    "        for epoch in range(1, self.epochs + 1):\n",
    "            self.model.train()\n",
    "            y_pred = self.model(self.x_train)\n",
    "            loss = self.loss_fn(y_pred, self.y_train)\n",
    "\n",
    "            self.optimizer.zero_grad()\n",
    "            loss.backward()\n",
    "            self.optimizer.step()\n",
    "\n",
    "            if epoch % 10 == 0:\n",
    "                self.model.eval()\n",
    "                with torch.no_grad():\n",
    "                    test_pred = self.model(self.x_test)\n",
    "                    test_loss = self.loss_fn(test_pred, self.y_test)\n",
    "                print(f\"Validation Loss after {epoch} epochs: {test_loss.item()}\")"
   ]
  },
  {
   "cell_type": "code",
   "execution_count": 17,
   "id": "12e13f51-1b5e-41da-972c-2ae0f9386b86",
   "metadata": {},
   "outputs": [
    {
     "name": "stdout",
     "output_type": "stream",
     "text": [
      "Validation Loss after 10 epochs: 0.45273739099502563\n",
      "Validation Loss after 20 epochs: 0.318027526140213\n",
      "Validation Loss after 30 epochs: 0.18331770598888397\n",
      "Validation Loss after 40 epochs: 0.048607878386974335\n",
      "Validation Loss after 50 epochs: 0.046863656491041183\n",
      "Validation Loss after 60 epochs: 0.046905118972063065\n",
      "Validation Loss after 70 epochs: 0.038632579147815704\n",
      "Validation Loss after 80 epochs: 0.030360037460923195\n",
      "Validation Loss after 90 epochs: 0.02277437411248684\n",
      "Validation Loss after 100 epochs: 0.014501834288239479\n"
     ]
    }
   ],
   "source": [
    "train_model = TrainModel(model_1, x_train, y_train, x_test, y_test, epochs=200, lr=0.01)\n",
    "train_model.train()"
   ]
  },
  {
   "cell_type": "code",
   "execution_count": null,
   "id": "4d252f57-c1a7-4530-bd29-4d052e90f783",
   "metadata": {},
   "outputs": [],
   "source": []
  }
 ],
 "metadata": {
  "kernelspec": {
   "display_name": "Python 3 (ipykernel)",
   "language": "python",
   "name": "python3"
  },
  "language_info": {
   "codemirror_mode": {
    "name": "ipython",
    "version": 3
   },
   "file_extension": ".py",
   "mimetype": "text/x-python",
   "name": "python",
   "nbconvert_exporter": "python",
   "pygments_lexer": "ipython3",
   "version": "3.11.4"
  }
 },
 "nbformat": 4,
 "nbformat_minor": 5
}
