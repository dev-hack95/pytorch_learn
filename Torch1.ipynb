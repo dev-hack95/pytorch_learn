{
 "cells": [
  {
   "cell_type": "markdown",
   "id": "ab2a8eb2-04f9-4299-a97b-feeff6270a34",
   "metadata": {},
   "source": [
    "## Linear Regression"
   ]
  },
  {
   "cell_type": "code",
   "execution_count": 1,
   "id": "fdbca276-c80f-418d-a3ec-48207259a619",
   "metadata": {},
   "outputs": [],
   "source": [
    "import os\n",
    "import torch\n",
    "from torch import nn\n",
    "from d2l import torch as d2l\n",
    "import matplotlib.pyplot as plt\n",
    "import seaborn as sns\n",
    "import numpy as np\n",
    "import pathlib\n",
    "\n",
    "weight = 0.7\n",
    "bias = 0.3\n",
    "\n",
    "start = 0\n",
    "end = 10\n",
    "step = 0.2\n",
    "\n",
    "x = torch.arange(start, end, step).unsqueeze(dim=1)"
   ]
  },
  {
   "cell_type": "code",
   "execution_count": 2,
   "id": "868e6783-e9d6-4e9c-997b-9bba464e6b34",
   "metadata": {},
   "outputs": [],
   "source": [
    "y = weight * x + bias"
   ]
  },
  {
   "cell_type": "code",
   "execution_count": 3,
   "id": "8cd74cfc-63b5-4a49-8c77-d56e43b4e5d7",
   "metadata": {},
   "outputs": [
    {
     "name": "stdout",
     "output_type": "stream",
     "text": [
      "50 50\n"
     ]
    }
   ],
   "source": [
    "print(len(x), len(y))"
   ]
  },
  {
   "cell_type": "code",
   "execution_count": 4,
   "id": "d9b51b89-c6d1-46c6-b99b-e952e40c871d",
   "metadata": {},
   "outputs": [],
   "source": [
    "train_data = int(0.8 * len(x))"
   ]
  },
  {
   "cell_type": "code",
   "execution_count": 5,
   "id": "6e209a62-b85a-4956-bfb8-721a03fbcc4a",
   "metadata": {},
   "outputs": [
    {
     "data": {
      "text/plain": [
       "40"
      ]
     },
     "execution_count": 5,
     "metadata": {},
     "output_type": "execute_result"
    }
   ],
   "source": [
    "train_data"
   ]
  },
  {
   "cell_type": "code",
   "execution_count": 6,
   "id": "780df342-ad22-4a9b-9edc-cd6218964518",
   "metadata": {},
   "outputs": [],
   "source": [
    "x_train, y_train, x_test, y_test = x[:train_data], y[:train_data], x[train_data:], y[train_data:]"
   ]
  },
  {
   "cell_type": "code",
   "execution_count": 7,
   "id": "1f0e2a75-103d-4f5c-aa36-19a993c8bd4c",
   "metadata": {},
   "outputs": [
    {
     "data": {
      "text/plain": [
       "(40, 40, 10, 10)"
      ]
     },
     "execution_count": 7,
     "metadata": {},
     "output_type": "execute_result"
    }
   ],
   "source": [
    "len(x_train), len(y_train), len(x_test), len(y_test)"
   ]
  },
  {
   "cell_type": "markdown",
   "id": "35f4148f-fe14-4187-8906-39507a7bd578",
   "metadata": {},
   "source": [
    "### Build Model"
   ]
  },
  {
   "cell_type": "code",
   "execution_count": 8,
   "id": "ba3df0bb-6138-4d24-ae67-009cb08a11d5",
   "metadata": {},
   "outputs": [],
   "source": [
    "class LinearRegressionModel(nn.Module):\n",
    "    def __init__(self):\n",
    "        super().__init__()\n",
    "        self.weights = nn.Parameter(torch.randn(1, requires_grad=True, dtype=torch.float))\n",
    "        self.bias = nn.Parameter(torch.randn(1, requires_grad=True, dtype=torch.float))\n",
    "\n",
    "    # Forward method is defined the computation in the model\n",
    "    def forward(self, x: torch.Tensor) -> torch.Tensor: # x is input training data\n",
    "        return self.weights * x + self.bias"
   ]
  },
  {
   "cell_type": "markdown",
   "id": "c8e09eb4-5bdd-4817-86be-8d158447dbdd",
   "metadata": {},
   "source": [
    "* torch.nn.Parameter: What parameters model try and learn\n",
    "* torch.optim: Where all optimizers are\n",
    "* def forward(self): must to write as subclass it will tell what happen in future"
   ]
  },
  {
   "cell_type": "code",
   "execution_count": 9,
   "id": "19cdb536-335a-4615-8fff-6a945195f315",
   "metadata": {},
   "outputs": [],
   "source": [
    "torch.manual_seed(42)\n",
    "model_1 = LinearRegressionModel()"
   ]
  },
  {
   "cell_type": "code",
   "execution_count": 10,
   "id": "21ced77a-bfd0-44dd-83a4-47553282142a",
   "metadata": {},
   "outputs": [
    {
     "data": {
      "text/plain": [
       "<generator object Module.parameters at 0x000002142DCF6340>"
      ]
     },
     "execution_count": 10,
     "metadata": {},
     "output_type": "execute_result"
    }
   ],
   "source": [
    "model_1.parameters()"
   ]
  },
  {
   "cell_type": "code",
   "execution_count": 11,
   "id": "0d267c1b-1c05-4436-ab56-4dd0ef923550",
   "metadata": {},
   "outputs": [
    {
     "data": {
      "text/plain": [
       "[Parameter containing:\n",
       " tensor([0.3367], requires_grad=True),\n",
       " Parameter containing:\n",
       " tensor([0.1288], requires_grad=True)]"
      ]
     },
     "execution_count": 11,
     "metadata": {},
     "output_type": "execute_result"
    }
   ],
   "source": [
    "list(model_1.parameters())"
   ]
  },
  {
   "cell_type": "code",
   "execution_count": 12,
   "id": "72a7f489-e9b1-4578-b208-eabbbf6405e8",
   "metadata": {},
   "outputs": [
    {
     "data": {
      "text/plain": [
       "OrderedDict([('weights', tensor([0.3367])), ('bias', tensor([0.1288]))])"
      ]
     },
     "execution_count": 12,
     "metadata": {},
     "output_type": "execute_result"
    }
   ],
   "source": [
    "model_1.state_dict()"
   ]
  },
  {
   "cell_type": "code",
   "execution_count": 13,
   "id": "aa179fdc-5b1a-418c-9308-34cf8c7e8c48",
   "metadata": {},
   "outputs": [
    {
     "data": {
      "text/plain": [
       "(tensor([[8.0000],\n",
       "         [8.2000],\n",
       "         [8.4000],\n",
       "         [8.6000],\n",
       "         [8.8000],\n",
       "         [9.0000],\n",
       "         [9.2000],\n",
       "         [9.4000],\n",
       "         [9.6000],\n",
       "         [9.8000]]),\n",
       " tensor([[5.9000],\n",
       "         [6.0400],\n",
       "         [6.1800],\n",
       "         [6.3200],\n",
       "         [6.4600],\n",
       "         [6.6000],\n",
       "         [6.7400],\n",
       "         [6.8800],\n",
       "         [7.0200],\n",
       "         [7.1600]]))"
      ]
     },
     "execution_count": 13,
     "metadata": {},
     "output_type": "execute_result"
    }
   ],
   "source": [
    "x_test, y_test"
   ]
  },
  {
   "cell_type": "code",
   "execution_count": 14,
   "id": "2a617759-e8a0-4512-9c81-ea836fc02920",
   "metadata": {},
   "outputs": [],
   "source": [
    "with torch.inference_mode():\n",
    "    y_preds = model_1(x_test)"
   ]
  },
  {
   "cell_type": "code",
   "execution_count": 15,
   "id": "d578d2ec-5917-4551-a05c-d226304a04b0",
   "metadata": {},
   "outputs": [
    {
     "data": {
      "text/plain": [
       "(tensor([[5.9000],\n",
       "         [6.0400],\n",
       "         [6.1800],\n",
       "         [6.3200],\n",
       "         [6.4600],\n",
       "         [6.6000],\n",
       "         [6.7400],\n",
       "         [6.8800],\n",
       "         [7.0200],\n",
       "         [7.1600]]),\n",
       " tensor([[2.8223],\n",
       "         [2.8897],\n",
       "         [2.9570],\n",
       "         [3.0243],\n",
       "         [3.0917],\n",
       "         [3.1590],\n",
       "         [3.2264],\n",
       "         [3.2937],\n",
       "         [3.3610],\n",
       "         [3.4284]]))"
      ]
     },
     "execution_count": 15,
     "metadata": {},
     "output_type": "execute_result"
    }
   ],
   "source": [
    "y_test, y_preds"
   ]
  },
  {
   "cell_type": "markdown",
   "id": "268407ae-2570-4e9d-ba91-a807b452f5c3",
   "metadata": {},
   "source": [
    "* **Loss Function:** A function measure how wrong your model is lower is better\n",
    "* **Optimizer:** Take into account the loss of model and adjusts the models parameters(eg. Weight & Bias) to improve loss"
   ]
  },
  {
   "cell_type": "markdown",
   "id": "c2a64bda-c76c-46a1-819a-96be4f0ab031",
   "metadata": {},
   "source": [
    "* In Pytorch we nedd training loop and testing loop"
   ]
  },
  {
   "cell_type": "code",
   "execution_count": 16,
   "id": "ea82850c-0482-44f0-ae7e-fd6bbd598d71",
   "metadata": {},
   "outputs": [
    {
     "data": {
      "text/plain": [
       "OrderedDict([('weights', tensor([0.3367])), ('bias', tensor([0.1288]))])"
      ]
     },
     "execution_count": 16,
     "metadata": {},
     "output_type": "execute_result"
    }
   ],
   "source": [
    "model_1.state_dict()"
   ]
  },
  {
   "cell_type": "code",
   "execution_count": 17,
   "id": "9f3cf74e-b3e4-4739-bff4-393d627c2186",
   "metadata": {},
   "outputs": [
    {
     "data": {
      "text/plain": [
       "[Parameter containing:\n",
       " tensor([0.3367], requires_grad=True),\n",
       " Parameter containing:\n",
       " tensor([0.1288], requires_grad=True)]"
      ]
     },
     "execution_count": 17,
     "metadata": {},
     "output_type": "execute_result"
    }
   ],
   "source": [
    "list(model_1.parameters())"
   ]
  },
  {
   "cell_type": "code",
   "execution_count": 18,
   "id": "fdde79c8-8982-4553-a4cd-150e2b111a9c",
   "metadata": {},
   "outputs": [],
   "source": [
    "loss_fn = nn.L1Loss()\n",
    "optimizer = torch.optim.SGD(params=model_1.parameters(), lr=0.01)"
   ]
  },
  {
   "cell_type": "markdown",
   "id": "307f989c-ffea-4cf9-8241-57701b8bf1ef",
   "metadata": {},
   "source": [
    "* Building Training loop in pytorch\n",
    "\n",
    "1. Loop through a data\n",
    "2. Forward pass to make prediction\n",
    "3. Calcuate Loss\n",
    "4. Optimize zero grad\n",
    "5. Loss Backward - (**Backpropogation**)\n",
    "6. Optimizer step - use the optimizer to adjust weights - (**Gradient Descent**) - Change in x w.r.t y (slope)"
   ]
  },
  {
   "cell_type": "code",
   "execution_count": 19,
   "id": "bf685710-702d-4d13-a656-940549c429c6",
   "metadata": {},
   "outputs": [
    {
     "name": "stdout",
     "output_type": "stream",
     "text": [
      "loss: tensor(1.5881, grad_fn=<MeanBackward0>)\n",
      "Weights and bias:  OrderedDict([('weights', tensor([0.3757])), ('bias', tensor([0.1388]))])\n",
      "Epoch: 0, | Loss: 3.047546148300171\n",
      "loss: tensor(1.4260, grad_fn=<MeanBackward0>)\n",
      "Weights and bias:  OrderedDict([('weights', tensor([0.4147])), ('bias', tensor([0.1488]))])\n",
      "Epoch: 1, | Loss: 2.690446376800537\n",
      "loss: tensor(1.2639, grad_fn=<MeanBackward0>)\n",
      "Weights and bias:  OrderedDict([('weights', tensor([0.4537])), ('bias', tensor([0.1588]))])\n",
      "Epoch: 2, | Loss: 2.333346128463745\n",
      "loss: tensor(1.1018, grad_fn=<MeanBackward0>)\n",
      "Weights and bias:  OrderedDict([('weights', tensor([0.4927])), ('bias', tensor([0.1688]))])\n",
      "Epoch: 3, | Loss: 1.9762461185455322\n",
      "loss: tensor(0.9397, grad_fn=<MeanBackward0>)\n",
      "Weights and bias:  OrderedDict([('weights', tensor([0.5317])), ('bias', tensor([0.1788]))])\n",
      "Epoch: 4, | Loss: 1.6191461086273193\n",
      "loss: tensor(0.7776, grad_fn=<MeanBackward0>)\n",
      "Weights and bias:  OrderedDict([('weights', tensor([0.5707])), ('bias', tensor([0.1888]))])\n",
      "Epoch: 5, | Loss: 1.2620466947555542\n",
      "loss: tensor(0.6155, grad_fn=<MeanBackward0>)\n",
      "Weights and bias:  OrderedDict([('weights', tensor([0.6097])), ('bias', tensor([0.1988]))])\n",
      "Epoch: 6, | Loss: 0.9049466848373413\n",
      "loss: tensor(0.4534, grad_fn=<MeanBackward0>)\n",
      "Weights and bias:  OrderedDict([('weights', tensor([0.6487])), ('bias', tensor([0.2088]))])\n",
      "Epoch: 7, | Loss: 0.5478471517562866\n",
      "loss: tensor(0.2913, grad_fn=<MeanBackward0>)\n",
      "Weights and bias:  OrderedDict([('weights', tensor([0.6877])), ('bias', tensor([0.2188]))])\n",
      "Epoch: 8, | Loss: 0.19074711203575134\n",
      "loss: tensor(0.1292, grad_fn=<MeanBackward0>)\n",
      "Weights and bias:  OrderedDict([('weights', tensor([0.7267])), ('bias', tensor([0.2288]))])\n",
      "Epoch: 9, | Loss: 0.16635242104530334\n",
      "loss: tensor(0.0584, grad_fn=<MeanBackward0>)\n",
      "Weights and bias:  OrderedDict([('weights', tensor([0.6968])), ('bias', tensor([0.2258]))])\n",
      "Epoch: 10, | Loss: 0.10275749862194061\n",
      "loss: tensor(0.0867, grad_fn=<MeanBackward0>)\n",
      "Weights and bias:  OrderedDict([('weights', tensor([0.7358])), ('bias', tensor([0.2358]))])\n",
      "Epoch: 11, | Loss: 0.2543419897556305\n",
      "loss: tensor(0.0914, grad_fn=<MeanBackward0>)\n",
      "Weights and bias:  OrderedDict([('weights', tensor([0.7004])), ('bias', tensor([0.2303]))])\n",
      "Epoch: 12, | Loss: 0.06621761620044708\n",
      "loss: tensor(0.0682, grad_fn=<MeanBackward0>)\n",
      "Weights and bias:  OrderedDict([('weights', tensor([0.7394])), ('bias', tensor([0.2403]))])\n",
      "Epoch: 13, | Loss: 0.2908819317817688\n",
      "loss: tensor(0.1068, grad_fn=<MeanBackward0>)\n",
      "Weights and bias:  OrderedDict([('weights', tensor([0.7032])), ('bias', tensor([0.2343]))])\n",
      "Epoch: 14, | Loss: 0.03729748725891113\n",
      "loss: tensor(0.0532, grad_fn=<MeanBackward0>)\n",
      "Weights and bias:  OrderedDict([('weights', tensor([0.7422])), ('bias', tensor([0.2443]))])\n",
      "Epoch: 15, | Loss: 0.31980204582214355\n",
      "loss: tensor(0.1195, grad_fn=<MeanBackward0>)\n",
      "Weights and bias:  OrderedDict([('weights', tensor([0.7053])), ('bias', tensor([0.2378]))])\n",
      "Epoch: 16, | Loss: 0.015107536688446999\n",
      "loss: tensor(0.0416, grad_fn=<MeanBackward0>)\n",
      "Weights and bias:  OrderedDict([('weights', tensor([0.7443])), ('bias', tensor([0.2478]))])\n",
      "Epoch: 17, | Loss: 0.34199196100234985\n",
      "loss: tensor(0.1296, grad_fn=<MeanBackward0>)\n",
      "Weights and bias:  OrderedDict([('weights', tensor([0.7068])), ('bias', tensor([0.2408]))])\n",
      "Epoch: 18, | Loss: 0.0035076141357421875\n",
      "loss: tensor(0.0327, grad_fn=<MeanBackward0>)\n",
      "Weights and bias:  OrderedDict([('weights', tensor([0.7458])), ('bias', tensor([0.2508]))])\n",
      "Epoch: 19, | Loss: 0.358341783285141\n",
      "loss: tensor(0.1373, grad_fn=<MeanBackward0>)\n",
      "Weights and bias:  OrderedDict([('weights', tensor([0.7083])), ('bias', tensor([0.2438]))])\n",
      "Epoch: 20, | Loss: 0.0175915714353323\n",
      "loss: tensor(0.0252, grad_fn=<MeanBackward0>)\n",
      "Weights and bias:  OrderedDict([('weights', tensor([0.7254])), ('bias', tensor([0.2508]))])\n",
      "Epoch: 21, | Loss: 0.17678137123584747\n",
      "loss: tensor(0.0630, grad_fn=<MeanBackward0>)\n",
      "Weights and bias:  OrderedDict([('weights', tensor([0.6909])), ('bias', tensor([0.2458]))])\n",
      "Epoch: 22, | Loss: 0.13526877760887146\n",
      "loss: tensor(0.0897, grad_fn=<MeanBackward0>)\n",
      "Weights and bias:  OrderedDict([('weights', tensor([0.7299])), ('bias', tensor([0.2558]))])\n",
      "Epoch: 23, | Loss: 0.22183075547218323\n",
      "loss: tensor(0.0817, grad_fn=<MeanBackward0>)\n",
      "Weights and bias:  OrderedDict([('weights', tensor([0.6937])), ('bias', tensor([0.2498]))])\n",
      "Epoch: 24, | Loss: 0.10634918510913849\n",
      "loss: tensor(0.0748, grad_fn=<MeanBackward0>)\n",
      "Weights and bias:  OrderedDict([('weights', tensor([0.7327])), ('bias', tensor([0.2598]))])\n",
      "Epoch: 25, | Loss: 0.2507507801055908\n",
      "loss: tensor(0.0945, grad_fn=<MeanBackward0>)\n",
      "Weights and bias:  OrderedDict([('weights', tensor([0.6958])), ('bias', tensor([0.2533]))])\n",
      "Epoch: 26, | Loss: 0.08415927737951279\n",
      "loss: tensor(0.0631, grad_fn=<MeanBackward0>)\n",
      "Weights and bias:  OrderedDict([('weights', tensor([0.7348])), ('bias', tensor([0.2633]))])\n",
      "Epoch: 27, | Loss: 0.27294063568115234\n",
      "loss: tensor(0.1048, grad_fn=<MeanBackward0>)\n",
      "Weights and bias:  OrderedDict([('weights', tensor([0.6973])), ('bias', tensor([0.2563]))])\n",
      "Epoch: 28, | Loss: 0.06780948489904404\n",
      "loss: tensor(0.0543, grad_fn=<MeanBackward0>)\n",
      "Weights and bias:  OrderedDict([('weights', tensor([0.7363])), ('bias', tensor([0.2663]))])\n",
      "Epoch: 29, | Loss: 0.28929004073143005\n",
      "loss: tensor(0.1126, grad_fn=<MeanBackward0>)\n",
      "Weights and bias:  OrderedDict([('weights', tensor([0.6983])), ('bias', tensor([0.2588]))])\n",
      "Epoch: 30, | Loss: 0.056409500539302826\n",
      "loss: tensor(0.0479, grad_fn=<MeanBackward0>)\n",
      "Weights and bias:  OrderedDict([('weights', tensor([0.7373])), ('bias', tensor([0.2688]))])\n",
      "Epoch: 31, | Loss: 0.30069002509117126\n",
      "loss: tensor(0.1183, grad_fn=<MeanBackward0>)\n",
      "Weights and bias:  OrderedDict([('weights', tensor([0.6993])), ('bias', tensor([0.2613]))])\n",
      "Epoch: 32, | Loss: 0.045009613037109375\n",
      "loss: tensor(0.0415, grad_fn=<MeanBackward0>)\n",
      "Weights and bias:  OrderedDict([('weights', tensor([0.7383])), ('bias', tensor([0.2713]))])\n",
      "Epoch: 33, | Loss: 0.3120899200439453\n",
      "loss: tensor(0.1241, grad_fn=<MeanBackward0>)\n",
      "Weights and bias:  OrderedDict([('weights', tensor([0.6999])), ('bias', tensor([0.2633]))])\n",
      "Epoch: 34, | Loss: 0.03766989707946777\n",
      "loss: tensor(0.0371, grad_fn=<MeanBackward0>)\n",
      "Weights and bias:  OrderedDict([('weights', tensor([0.7389])), ('bias', tensor([0.2733]))])\n",
      "Epoch: 35, | Loss: 0.31942957639694214\n",
      "loss: tensor(0.1280, grad_fn=<MeanBackward0>)\n",
      "Weights and bias:  OrderedDict([('weights', tensor([0.7005])), ('bias', tensor([0.2653]))])\n",
      "Epoch: 36, | Loss: 0.030330276116728783\n",
      "loss: tensor(0.0328, grad_fn=<MeanBackward0>)\n",
      "Weights and bias:  OrderedDict([('weights', tensor([0.7395])), ('bias', tensor([0.2753]))])\n",
      "Epoch: 37, | Loss: 0.32676973938941956\n",
      "loss: tensor(0.1319, grad_fn=<MeanBackward0>)\n",
      "Weights and bias:  OrderedDict([('weights', tensor([0.7011])), ('bias', tensor([0.2673]))])\n",
      "Epoch: 38, | Loss: 0.022990131750702858\n",
      "loss: tensor(0.0284, grad_fn=<MeanBackward0>)\n",
      "Weights and bias:  OrderedDict([('weights', tensor([0.7401])), ('bias', tensor([0.2773]))])\n",
      "Epoch: 39, | Loss: 0.33410945534706116\n",
      "loss: tensor(0.1359, grad_fn=<MeanBackward0>)\n",
      "Weights and bias:  OrderedDict([('weights', tensor([0.7014])), ('bias', tensor([0.2688]))])\n",
      "Epoch: 40, | Loss: 0.018820524215698242\n",
      "loss: tensor(0.0258, grad_fn=<MeanBackward0>)\n",
      "Weights and bias:  OrderedDict([('weights', tensor([0.7404])), ('bias', tensor([0.2788]))])\n",
      "Epoch: 41, | Loss: 0.3382795453071594\n",
      "loss: tensor(0.1383, grad_fn=<MeanBackward0>)\n",
      "Weights and bias:  OrderedDict([('weights', tensor([0.7017])), ('bias', tensor([0.2703]))])\n",
      "Epoch: 42, | Loss: 0.014650439843535423\n",
      "loss: tensor(0.0231, grad_fn=<MeanBackward0>)\n",
      "Weights and bias:  OrderedDict([('weights', tensor([0.7407])), ('bias', tensor([0.2803]))])\n",
      "Epoch: 43, | Loss: 0.34244903922080994\n",
      "loss: tensor(0.1407, grad_fn=<MeanBackward0>)\n",
      "Weights and bias:  OrderedDict([('weights', tensor([0.7020])), ('bias', tensor([0.2718]))])\n",
      "Epoch: 44, | Loss: 0.010480403900146484\n",
      "loss: tensor(0.0204, grad_fn=<MeanBackward0>)\n",
      "Weights and bias:  OrderedDict([('weights', tensor([0.7410])), ('bias', tensor([0.2818]))])\n",
      "Epoch: 45, | Loss: 0.3466190695762634\n",
      "loss: tensor(0.1432, grad_fn=<MeanBackward0>)\n",
      "Weights and bias:  OrderedDict([('weights', tensor([0.7023])), ('bias', tensor([0.2733]))])\n",
      "Epoch: 46, | Loss: 0.006310844328254461\n",
      "loss: tensor(0.0178, grad_fn=<MeanBackward0>)\n",
      "Weights and bias:  OrderedDict([('weights', tensor([0.7413])), ('bias', tensor([0.2833]))])\n",
      "Epoch: 47, | Loss: 0.3507891595363617\n",
      "loss: tensor(0.1456, grad_fn=<MeanBackward0>)\n",
      "Weights and bias:  OrderedDict([('weights', tensor([0.7026])), ('bias', tensor([0.2748]))])\n",
      "Epoch: 48, | Loss: 0.0021788119338452816\n",
      "loss: tensor(0.0151, grad_fn=<MeanBackward0>)\n",
      "Weights and bias:  OrderedDict([('weights', tensor([0.7416])), ('bias', tensor([0.2848]))])\n",
      "Epoch: 49, | Loss: 0.35495901107788086\n"
     ]
    }
   ],
   "source": [
    "# Epoch is one loop through data\n",
    "epochs = 50\n",
    "test_loss_list = list()\n",
    "for epoch in range(epochs):\n",
    "    # Train Mode\n",
    "    model_1.train()\n",
    "    # Forward pass\n",
    "    y_pred = model_1(x_train)\n",
    "    loss = loss_fn(y_pred, y_train) # if regresion then Difference (|y_pred - y_test|)\n",
    "    print(\"loss:\", loss)\n",
    "    # optimizer \n",
    "    optimizer.zero_grad() # If we didn't make it zero then and go throuh the loop then then it will increment by 1 as we are running things through loops\n",
    "    # Backpropogation\n",
    "    loss.backward()\n",
    "    # step optimizer\n",
    "    optimizer.step()\n",
    "    print(\"Weights and bias: \", model_1.state_dict())\n",
    "\n",
    "    model_1.eval()\n",
    "\n",
    "    with torch.inference_mode():\n",
    "        test_pred = model_1(x_test)\n",
    "        test_loss = loss_fn(test_pred,  y_test)\n",
    "\n",
    "    if epoch % 5 == 0:\n",
    "        test_loss_list.append(test_loss)\n",
    "\n",
    "    print(f\"Epoch: {epoch}, | Loss: {test_loss}\")\n",
    "    "
   ]
  },
  {
   "cell_type": "code",
   "execution_count": 20,
   "id": "2ebf4e5e-2ba4-47dd-a0c9-b01085766b8b",
   "metadata": {},
   "outputs": [
    {
     "data": {
      "text/plain": [
       "[tensor(3.0475),\n",
       " tensor(1.2620),\n",
       " tensor(0.1028),\n",
       " tensor(0.3198),\n",
       " tensor(0.0176),\n",
       " tensor(0.2508),\n",
       " tensor(0.0564),\n",
       " tensor(0.3194),\n",
       " tensor(0.0188),\n",
       " tensor(0.3466)]"
      ]
     },
     "execution_count": 20,
     "metadata": {},
     "output_type": "execute_result"
    }
   ],
   "source": [
    "test_loss_list"
   ]
  },
  {
   "cell_type": "code",
   "execution_count": 21,
   "id": "8b06c742-993e-4908-8f52-79190b03de69",
   "metadata": {},
   "outputs": [
    {
     "data": {
      "text/plain": [
       "[<matplotlib.lines.Line2D at 0x2142ddb6b90>]"
      ]
     },
     "execution_count": 21,
     "metadata": {},
     "output_type": "execute_result"
    },
    {
     "data": {
      "image/png": "[encoded data removed]",
      "text/plain": [
       "<Figure size 640x480 with 1 Axes>"
      ]
     },
     "metadata": {},
     "output_type": "display_data"
    }
   ],
   "source": [
    "plt.plot(np.array(torch.tensor(test_loss_list).cpu().numpy()))"
   ]
  },
  {
   "cell_type": "code",
   "execution_count": 22,
   "id": "402152ce-a5d9-4949-be50-0d9a9c24c4a6",
   "metadata": {},
   "outputs": [
    {
     "data": {
      "image/png": "[encoded data removed]",
      "text/plain": [
       "<Figure size 2000x800 with 1 Axes>"
      ]
     },
     "metadata": {},
     "output_type": "display_data"
    }
   ],
   "source": [
    "plt.figure(figsize=(20, 8))\n",
    "plt.plot(y_train, marker='x')\n",
    "values = y_pred.detach().numpy()\n",
    "\n",
    "# Plotting\n",
    "plt.plot(values, marker='o')\n",
    "plt.show()"
   ]
  },
  {
   "cell_type": "code",
   "execution_count": 23,
   "id": "d6490c31-104f-4bf0-9dc4-4f8f5fea4cea",
   "metadata": {},
   "outputs": [],
   "source": [
    "MODEL_PATH = pathlib.Path(\"models/Torch_1\")\n",
    "MODEL_WEIGHT_PATH = pathlib.Path(\"models/Torch_1/weights\")\n",
    "MODEL_WEIGHT_PATH.mkdir(parents=True, exist_ok=True)\n",
    "MODEL_PATH.mkdir(parents=True, exist_ok=True)\n",
    "MODEL_NAME = \"LinearRegressionModel.pth\"\n",
    "MODEL_SAVE_PATH = MODEL_PATH / MODEL_NAME\n",
    "MODEL_WEIGHT_SAVE_PATH = MODEL_WEIGHT_PATH / MODEL_NAME"
   ]
  },
  {
   "cell_type": "code",
   "execution_count": 24,
   "id": "334b58f3-6a86-4e82-a30f-faacc6a9310e",
   "metadata": {},
   "outputs": [
    {
     "data": {
      "text/plain": [
       "WindowsPath('models/Torch_1/weights/LinearRegressionModel.pth')"
      ]
     },
     "execution_count": 24,
     "metadata": {},
     "output_type": "execute_result"
    }
   ],
   "source": [
    "MODEL_WEIGHT_SAVE_PATH"
   ]
  },
  {
   "cell_type": "code",
   "execution_count": 25,
   "id": "032939f1-ccba-458a-956c-63d6f064c145",
   "metadata": {},
   "outputs": [],
   "source": [
    "torch.save(obj=model_1.state_dict(), f=MODEL_WEIGHT_SAVE_PATH)"
   ]
  },
  {
   "cell_type": "code",
   "execution_count": 26,
   "id": "6a82a6a5-38bd-42ab-8156-f2c191b98162",
   "metadata": {},
   "outputs": [],
   "source": [
    "torch.save(obj=model_1, f = MODEL_SAVE_PATH)"
   ]
  },
  {
   "cell_type": "code",
   "execution_count": 27,
   "id": "09837b98-de4b-4a91-a54d-71950e8e2ddc",
   "metadata": {},
   "outputs": [
    {
     "data": {
      "text/plain": [
       "<All keys matched successfully>"
      ]
     },
     "execution_count": 27,
     "metadata": {},
     "output_type": "execute_result"
    }
   ],
   "source": [
    "# Model with state dict - We have to create new instance of class of model and loade the dict into it\n",
    "model_2 = LinearRegressionModel()\n",
    "model_2.load_state_dict(torch.load(f=MODEL_WEIGHT_SAVE_PATH))"
   ]
  },
  {
   "cell_type": "code",
   "execution_count": 28,
   "id": "a8f7e03c-88c9-4f7c-8d24-386d4ae39945",
   "metadata": {},
   "outputs": [
    {
     "data": {
      "text/plain": [
       "OrderedDict([('weights', tensor([0.7416])), ('bias', tensor([0.2848]))])"
      ]
     },
     "execution_count": 28,
     "metadata": {},
     "output_type": "execute_result"
    }
   ],
   "source": [
    "model_2.state_dict()"
   ]
  },
  {
   "cell_type": "code",
   "execution_count": 29,
   "id": "621e1e2d-502f-4c58-aee4-39b0e4964bb3",
   "metadata": {},
   "outputs": [
    {
     "data": {
      "text/plain": [
       "OrderedDict([('weights', tensor([0.7416])), ('bias', tensor([0.2848]))])"
      ]
     },
     "execution_count": 29,
     "metadata": {},
     "output_type": "execute_result"
    }
   ],
   "source": [
    "model_1.state_dict()"
   ]
  },
  {
   "cell_type": "code",
   "execution_count": 30,
   "id": "52bc86c6-584b-4030-a5e0-aab0fa700948",
   "metadata": {},
   "outputs": [],
   "source": [
    "model_2.eval()\n",
    "with torch.inference_mode():\n",
    "    y_pred_model_2 = model_2(x_test)"
   ]
  },
  {
   "cell_type": "code",
   "execution_count": 31,
   "id": "fc365a1b-0664-48fb-b548-4838421b7944",
   "metadata": {},
   "outputs": [
    {
     "data": {
      "text/plain": [
       "tensor([[True],\n",
       "        [True],\n",
       "        [True],\n",
       "        [True],\n",
       "        [True],\n",
       "        [True],\n",
       "        [True],\n",
       "        [True],\n",
       "        [True],\n",
       "        [True]])"
      ]
     },
     "execution_count": 31,
     "metadata": {},
     "output_type": "execute_result"
    }
   ],
   "source": [
    "test_pred == y_pred_model_2"
   ]
  },
  {
   "cell_type": "code",
   "execution_count": 32,
   "id": "e2ef8c13-1f26-436f-8f4a-30170b3bc54c",
   "metadata": {},
   "outputs": [],
   "source": [
    "model_3 = torch.load(f=MODEL_SAVE_PATH)"
   ]
  },
  {
   "cell_type": "code",
   "execution_count": 33,
   "id": "e24c2c44-d19c-4d78-b0ee-8653cfafeca3",
   "metadata": {},
   "outputs": [],
   "source": [
    "model_3.eval()\n",
    "with torch.inference_mode():\n",
    "    model_3_preds = model_3(x_test)"
   ]
  },
  {
   "cell_type": "code",
   "execution_count": 34,
   "id": "66dcc684-68c3-4b01-bb4b-8fc29c43cae9",
   "metadata": {},
   "outputs": [
    {
     "data": {
      "text/plain": [
       "tensor([[True],\n",
       "        [True],\n",
       "        [True],\n",
       "        [True],\n",
       "        [True],\n",
       "        [True],\n",
       "        [True],\n",
       "        [True],\n",
       "        [True],\n",
       "        [True]])"
      ]
     },
     "execution_count": 34,
     "metadata": {},
     "output_type": "execute_result"
    }
   ],
   "source": [
    "test_pred == model_3_preds"
   ]
  },
  {
   "cell_type": "code",
   "execution_count": 35,
   "id": "f5c4982a-0cbb-42e8-ad7b-988aed678a8c",
   "metadata": {},
   "outputs": [],
   "source": [
    "# Rerun"
   ]
  },
  {
   "cell_type": "code",
   "execution_count": null,
   "id": "d606cf73-75d3-49e0-8b1f-2d42765858ef",
   "metadata": {},
   "outputs": [],
   "source": []
  }
 ],
 "metadata": {
  "kernelspec": {
   "display_name": "Python 3 (ipykernel)",
   "language": "python",
   "name": "python3"
  },
  "language_info": {
   "codemirror_mode": {
    "name": "ipython",
    "version": 3
   },
   "file_extension": ".py",
   "mimetype": "text/x-python",
   "name": "python",
   "nbconvert_exporter": "python",
   "pygments_lexer": "ipython3",
   "version": "3.11.4"
  }
 },
 "nbformat": 4,
 "nbformat_minor": 5
}
